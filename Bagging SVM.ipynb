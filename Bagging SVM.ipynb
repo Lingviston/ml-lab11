{
 "cells": [
  {
   "cell_type": "code",
   "execution_count": 1,
   "metadata": {
    "collapsed": true
   },
   "outputs": [],
   "source": [
    "from __future__ import print_function\n",
    "\n",
    "import sys\n",
    "\n",
    "import matplotlib\n",
    "matplotlib.use('Agg')\n",
    "%matplotlib inline\n",
    "import matplotlib.pyplot as plt\n",
    "\n",
    "import numpy as np\n",
    "import sklearn\n",
    "\n",
    "\n",
    "import random\n",
    "import sklearn.datasets\n",
    "import time"
   ]
  },
  {
   "cell_type": "code",
   "execution_count": 2,
   "metadata": {
    "collapsed": true
   },
   "outputs": [],
   "source": [
    "mnist = sklearn.datasets.fetch_mldata('MNIST original')\n",
    "X, Y = mnist['data'], np.array(mnist['target'], dtype='int')\n",
    "\n",
    "ntrain = 60000\n",
    "\n",
    "X_train, Y_train = X[:ntrain], Y[:ntrain]\n",
    "X_test, Y_test = X[ntrain:], Y[ntrain:]"
   ]
  },
  {
   "cell_type": "code",
   "execution_count": 3,
   "metadata": {
    "scrolled": true
   },
   "outputs": [
    {
     "data": {
      "image/png": "[encoded data removed]",
      "text/plain": [
       "<matplotlib.figure.Figure at 0x1a3d5d8e2e8>"
      ]
     },
     "metadata": {},
     "output_type": "display_data"
    }
   ],
   "source": [
    "plt.hist(Y_train)\n",
    "plt.title('Y_train distribution')\n",
    "plt.show()"
   ]
  },
  {
   "cell_type": "code",
   "execution_count": 4,
   "metadata": {},
   "outputs": [
    {
     "data": {
      "image/png": "[encoded data removed]",
      "text/plain": [
       "<matplotlib.figure.Figure at 0x1a3dc1e04e0>"
      ]
     },
     "metadata": {},
     "output_type": "display_data"
    }
   ],
   "source": [
    "plt.hist(Y_test)\n",
    "plt.title('Y_test distribution')\n",
    "plt.show()"
   ]
  },
  {
   "cell_type": "code",
   "execution_count": 9,
   "metadata": {
    "collapsed": true
   },
   "outputs": [],
   "source": [
    "permutation = np.random.permutation(ntrain)\n",
    "n_dev = 20000\n",
    "\n",
    "X_dev, Y_dev = X_train[permutation][:n_dev], Y_train[permutation][:n_dev]\n",
    "\n",
    "permutation = np.random.permutation(n_dev)\n",
    "n_dev_train = n_dev // 100 * 90\n",
    "\n",
    "X_dev_train, Y_dev_train = X_dev[permutation][:n_dev_train], Y_dev[permutation][:n_dev_train]\n",
    "X_dev_test, Y_dev_test = X_dev[permutation][n_dev_train:], Y_dev[permutation][n_dev_train:]"
   ]
  },
  {
   "cell_type": "code",
   "execution_count": 10,
   "metadata": {},
   "outputs": [
    {
     "data": {
      "image/png": "[encoded data removed]",
      "text/plain": [
       "<matplotlib.figure.Figure at 0x1a3dc2e1c50>"
      ]
     },
     "metadata": {},
     "output_type": "display_data"
    }
   ],
   "source": [
    "plt.hist(Y_dev_train)\n",
    "plt.title('Y_dev_train distribution')\n",
    "plt.show()"
   ]
  },
  {
   "cell_type": "code",
   "execution_count": 11,
   "metadata": {},
   "outputs": [
    {
     "data": {
      "image/png": "[encoded data removed]",
      "text/plain": [
       "<matplotlib.figure.Figure at 0x1a3dc22cf60>"
      ]
     },
     "metadata": {},
     "output_type": "display_data"
    }
   ],
   "source": [
    "plt.hist(Y_dev_test)\n",
    "plt.title('Y_dev_test distribution')\n",
    "plt.show()"
   ]
  },
  {
   "cell_type": "markdown",
   "metadata": {},
   "source": [
    "<b>SVM, Polynomial, 98.1%</b>\n",
    "\n",
    "На данный момент это лучшее решение, которое я нашел.\n",
    "\n",
    "Точность на тестовой выборке 98.1%"
   ]
  },
  {
   "cell_type": "code",
   "execution_count": 10,
   "metadata": {},
   "outputs": [
    {
     "name": "stdout",
     "output_type": "stream",
     "text": [
      "(60000, 784) (10000, 784)\n",
      "Time 201.5941231250763\n",
      "Train score 1.000\n",
      "Test score 0.981\n"
     ]
    }
   ],
   "source": [
    "from sklearn.svm import SVC\n",
    "\n",
    "print(X_train.shape, X_test.shape)\n",
    "classifier = SVC(kernel=\"poly\", \n",
    "                 degree=2, \n",
    "                 coef0=0,\n",
    "                 C=1,\n",
    "                 gamma=3,\n",
    "                 decision_function_shape=\"ovr\"\n",
    "                )\n",
    "\n",
    "start = time.time()\n",
    "classifier.fit(X_train, Y_train)\n",
    "end = time.time()\n",
    "print (\"Time\", end - start)\n",
    "\n",
    "print(\"Train score {:.3f}\".format(classifier.score(X_train, Y_train)))\n",
    "print(\"Test score {:.3f}\".format(classifier.score(X_test, Y_test)))"
   ]
  },
  {
   "cell_type": "code",
   "execution_count": null,
   "metadata": {},
   "outputs": [
    {
     "name": "stdout",
     "output_type": "stream",
     "text": [
      "(60000, 784) (10000, 784)\n"
     ]
    }
   ],
   "source": [
    "from sklearn.svm import SVC\n",
    "\n",
    "print(X_train.shape, X_test.shape)\n",
    "classifier = SVC(C=3,\n",
    "                 gamma=0.01,\n",
    "                 kernel=\"rbf\"\n",
    "                )\n",
    "\n",
    "start = time.time()\n",
    "classifier.fit(X_train, Y_train)\n",
    "end = time.time()\n",
    "print (\"Time\", end - start)\n",
    "\n",
    "print(\"Train score {:.4f}\".format(classifier.score(X_train, Y_train)))\n",
    "print(\"Test score {:.4f}\".format(classifier.score(X_test, Y_test)))"
   ]
  },
  {
   "cell_type": "markdown",
   "metadata": {},
   "source": [
    "<b>3NN + RandomForest, 97.6%</b>\n",
    "\n",
    "Вторая лучшая точность на тесте. 97.6% при использовании:\n",
    "\n",
    "1) KNeighborsClassifier(n_neighbors=3, n_jobs=-1)\n",
    "\n",
    "2) RandomForestClassifier(n_estimators=200, n_jobs=-1)\n",
    "\n",
    "3) ExtraTreesClassifier(n_estimators=45, max_depth=195, n_jobs=-1)\n",
    "\n",
    "\n",
    "Время работы на тесте около 2 минут, тренировка 30 секунд. voting ==soft\n",
    "\n",
    "Третья лучшая точность на тесте. 97.5% при использовании:\n",
    "\n",
    "1) KNeighborsClassifier(n_neighbors=3, n_jobs=-1)\n",
    "\n",
    "2) RandomForestClassifier(n_estimators=200, n_jobs=-1)\n",
    "\n",
    "Время работы на тесте около 2 минут, тренировка 25 секунд. voting ==soft"
   ]
  },
  {
   "cell_type": "code",
   "execution_count": 120,
   "metadata": {},
   "outputs": [
    {
     "name": "stderr",
     "output_type": "stream",
     "text": [
      "C:\\Users\\vladislav.ermolin\\Anaconda3\\lib\\site-packages\\sklearn\\externals\\joblib\\pool.py:438: UserWarning: Failed to clean temporary folder: C:\\Users\\VLADIS~1.ERM\\AppData\\Local\\Temp\\joblib_memmaping_pool_3028_2549125236104\n",
      "  warnings.warn(\"Failed to clean temporary folder: %s\" % folder_path)\n"
     ]
    },
    {
     "name": "stdout",
     "output_type": "stream",
     "text": [
      "Time 29.216692686080933\n",
      "Test score 0.976\n",
      "Time 121.42188572883606\n"
     ]
    }
   ],
   "source": [
    "from sklearn.ensemble import VotingClassifier\n",
    "from sklearn.neighbors import KNeighborsClassifier\n",
    "\n",
    "knn_classifier = KNeighborsClassifier(n_neighbors=3, n_jobs=-1)\n",
    "rt_classifier = RandomForestClassifier(n_estimators=200, n_jobs=-1)\n",
    "et_classifier = ExtraTreesClassifier(n_estimators=45,\n",
    "                                     max_depth=195,\n",
    "                                     n_jobs=-1)\n",
    "\n",
    "eclf1 = VotingClassifier(estimators=[(\"rt\", rt_classifier), (\"et\", et_classifier), (\"knn\", knn_classifier)], \n",
    "                         voting='soft', \n",
    "                         n_jobs=-1)\n",
    "                                     \n",
    "start = time.time()\n",
    "eclf1.fit(X_train, Y_train)\n",
    "end = time.time()\n",
    "print (\"Time\", end - start)\n",
    "start = time.time()\n",
    "print(\"Test score {:.3f}\".format(eclf1.score(X_test, Y_test)))\n",
    "end = time.time()\n",
    "print (\"Time\", end - start)"
   ]
  },
  {
   "cell_type": "markdown",
   "metadata": {},
   "source": [
    "<b>Random forest, 97.2%</b>\n",
    "\n",
    "Третий лучший результат. 97.2% на тесте, например при n_estimators == 200.\n",
    "\n",
    "Необходимо запустить GridSearch по n_estimators, max_features и min_samples_split"
   ]
  },
  {
   "cell_type": "code",
   "execution_count": 13,
   "metadata": {},
   "outputs": [
    {
     "name": "stdout",
     "output_type": "stream",
     "text": [
      "Time 19.98013186454773\n",
      "Train score 0.999\n",
      "Time 0.9324784278869629\n",
      "Test score 0.971\n",
      "Time 0.23662948608398438\n"
     ]
    }
   ],
   "source": [
    "from sklearn.ensemble import RandomForestClassifier\n",
    "\n",
    "clf = RandomForestClassifier(n_estimators=200,\n",
    "                             n_jobs=-1)\n",
    "\n",
    "start = time.time()\n",
    "clf.fit(X_train, Y_train)\n",
    "end = time.time()\n",
    "print (\"Time\", end - start)\n",
    "start = time.time()\n",
    "print(\"Train score {:.3f}\".format(clf.score(X_train, Y_train)))\n",
    "end = time.time()\n",
    "print (\"Time\", end - start)\n",
    "start = time.time()\n",
    "print(\"Test score {:.3f}\".format(clf.score(X_test, Y_test)))\n",
    "end = time.time()\n",
    "print (\"Time\", end - start)"
   ]
  },
  {
   "cell_type": "code",
   "execution_count": null,
   "metadata": {
    "collapsed": true
   },
   "outputs": [],
   "source": [
    "from sklearn.ensemble import RandomForestClassifier\n",
    "import sklearn.model_selection\n",
    "\n",
    "tuned_parameters = [\n",
    "    {\n",
    "        'n_estimators': range(5, 50, 5), \n",
    "        'max_depth': [None] + list(range(5, 30, 5)),\n",
    "        'max_features' : [\"auto\"] + list(range(10, 60, 5)),\n",
    "        'min_samples_split' : list(range(2, 5))\n",
    "    }\n",
    "]\n",
    "\n",
    "grid_search = sklearn.model_selection.GridSearchCV(\n",
    "    RandomForestClassifier(),\n",
    "    tuned_parameters,\n",
    "    cv=5,\n",
    "    n_jobs=-1\n",
    ")\n",
    "grid_search.fit(X_train, Y_train)\n",
    "\n",
    "means = grid_search.cv_results_['mean_test_score']\n",
    "stds = grid_search.cv_results_['std_test_score']\n",
    "for mean, std, params in zip(means, stds, grid_search.cv_results_['params']):\n",
    "    print(\"%0.3f (+/-%0.03f) for %r\" % (mean, std * 2, params))\n",
    "\n",
    "print(grid_search.best_params_)"
   ]
  },
  {
   "cell_type": "markdown",
   "metadata": {},
   "source": [
    "<b>Decision tree, 88.4%</b>\n",
    "\n",
    "Лучшая точность на тесте 88.4%, при max_depth = 15"
   ]
  },
  {
   "cell_type": "code",
   "execution_count": 82,
   "metadata": {},
   "outputs": [
    {
     "name": "stdout",
     "output_type": "stream",
     "text": [
      "Time 9.100199222564697\n",
      "Train score 0.984\n",
      "Time 0.09324765205383301\n",
      "Test score 0.884\n",
      "Time 0.01704549789428711\n"
     ]
    }
   ],
   "source": [
    "from sklearn.tree import DecisionTreeClassifier\n",
    "\n",
    "dectree_classifier = DecisionTreeClassifier(max_depth=15)\n",
    "\n",
    "start = time.time()\n",
    "dectree_classifier.fit(X_train, Y_train)\n",
    "end = time.time()\n",
    "print (\"Time\", end - start)\n",
    "start = time.time()\n",
    "print(\"Train score {:.3f}\".format(dectree_classifier.score(X_train, Y_train)))\n",
    "end = time.time()\n",
    "print (\"Time\", end - start)\n",
    "start = time.time()\n",
    "print(\"Test score {:.3f}\".format(dectree_classifier.score(X_test, Y_test)))\n",
    "end = time.time()\n",
    "print (\"Time\", end - start)"
   ]
  },
  {
   "cell_type": "code",
   "execution_count": 81,
   "metadata": {},
   "outputs": [
    {
     "name": "stdout",
     "output_type": "stream",
     "text": [
      "0.867 (+/-0.013) for {'max_depth': None, 'splitter': 'best'}\n",
      "0.669 (+/-0.029) for {'max_depth': 5, 'splitter': 'best'}\n",
      "0.849 (+/-0.014) for {'max_depth': 10, 'splitter': 'best'}\n",
      "0.871 (+/-0.013) for {'max_depth': 15, 'splitter': 'best'}\n",
      "0.870 (+/-0.015) for {'max_depth': 20, 'splitter': 'best'}\n",
      "0.869 (+/-0.016) for {'max_depth': 25, 'splitter': 'best'}\n",
      "0.868 (+/-0.014) for {'max_depth': 30, 'splitter': 'best'}\n",
      "0.868 (+/-0.013) for {'max_depth': 35, 'splitter': 'best'}\n",
      "0.867 (+/-0.015) for {'max_depth': 40, 'splitter': 'best'}\n",
      "0.867 (+/-0.014) for {'max_depth': 45, 'splitter': 'best'}\n",
      "0.867 (+/-0.012) for {'max_depth': 50, 'splitter': 'best'}\n",
      "0.867 (+/-0.013) for {'max_depth': 55, 'splitter': 'best'}\n",
      "0.866 (+/-0.016) for {'max_depth': 60, 'splitter': 'best'}\n",
      "0.867 (+/-0.016) for {'max_depth': 65, 'splitter': 'best'}\n",
      "0.866 (+/-0.015) for {'max_depth': 70, 'splitter': 'best'}\n",
      "0.868 (+/-0.015) for {'max_depth': 75, 'splitter': 'best'}\n",
      "0.866 (+/-0.015) for {'max_depth': 80, 'splitter': 'best'}\n",
      "0.867 (+/-0.015) for {'max_depth': 85, 'splitter': 'best'}\n",
      "0.867 (+/-0.012) for {'max_depth': 90, 'splitter': 'best'}\n",
      "0.867 (+/-0.013) for {'max_depth': 95, 'splitter': 'best'}\n",
      "0.866 (+/-0.015) for {'max_depth': 100, 'splitter': 'best'}\n",
      "0.868 (+/-0.012) for {'max_depth': 105, 'splitter': 'best'}\n",
      "0.867 (+/-0.016) for {'max_depth': 110, 'splitter': 'best'}\n",
      "0.867 (+/-0.013) for {'max_depth': 115, 'splitter': 'best'}\n",
      "0.868 (+/-0.013) for {'max_depth': 120, 'splitter': 'best'}\n",
      "0.867 (+/-0.016) for {'max_depth': 125, 'splitter': 'best'}\n",
      "0.867 (+/-0.015) for {'max_depth': 130, 'splitter': 'best'}\n",
      "0.867 (+/-0.013) for {'max_depth': 135, 'splitter': 'best'}\n",
      "0.867 (+/-0.016) for {'max_depth': 140, 'splitter': 'best'}\n",
      "0.867 (+/-0.013) for {'max_depth': 145, 'splitter': 'best'}\n",
      "0.868 (+/-0.015) for {'max_depth': 150, 'splitter': 'best'}\n",
      "0.867 (+/-0.014) for {'max_depth': 155, 'splitter': 'best'}\n",
      "0.866 (+/-0.014) for {'max_depth': 160, 'splitter': 'best'}\n",
      "0.867 (+/-0.013) for {'max_depth': 165, 'splitter': 'best'}\n",
      "0.868 (+/-0.015) for {'max_depth': 170, 'splitter': 'best'}\n",
      "0.868 (+/-0.014) for {'max_depth': 175, 'splitter': 'best'}\n",
      "0.866 (+/-0.014) for {'max_depth': 180, 'splitter': 'best'}\n",
      "0.868 (+/-0.015) for {'max_depth': 185, 'splitter': 'best'}\n",
      "0.867 (+/-0.011) for {'max_depth': 190, 'splitter': 'best'}\n",
      "0.867 (+/-0.012) for {'max_depth': 195, 'splitter': 'best'}\n",
      "{'max_depth': 15, 'splitter': 'best'}\n"
     ]
    }
   ],
   "source": [
    "from sklearn.tree import DecisionTreeClassifier\n",
    "import sklearn.model_selection\n",
    "\n",
    "tuned_parameters = [\n",
    "    {\n",
    "        'splitter': ['best'], \n",
    "        'max_depth': [None] + list(range(5, 200, 5))\n",
    "    }\n",
    "]\n",
    "\n",
    "grid_search = sklearn.model_selection.GridSearchCV(\n",
    "    DecisionTreeClassifier(),\n",
    "    tuned_parameters,\n",
    "    cv=5,\n",
    "    n_jobs=-1\n",
    ")\n",
    "grid_search.fit(X_train, Y_train)\n",
    "\n",
    "means = grid_search.cv_results_['mean_test_score']\n",
    "stds = grid_search.cv_results_['std_test_score']\n",
    "for mean, std, params in zip(means, stds, grid_search.cv_results_['params']):\n",
    "    print(\"%0.3f (+/-%0.03f) for %r\" % (mean, std * 2, params))\n",
    "\n",
    "print(grid_search.best_params_)"
   ]
  },
  {
   "cell_type": "markdown",
   "metadata": {},
   "source": [
    "<b>Extra tree</b>"
   ]
  },
  {
   "cell_type": "code",
   "execution_count": 118,
   "metadata": {},
   "outputs": [
    {
     "name": "stdout",
     "output_type": "stream",
     "text": [
      "Time 6.922408580780029\n",
      "Train score 1.000\n",
      "Time 0.5985908508300781\n",
      "Test score 0.972\n",
      "Time 0.14438533782958984\n"
     ]
    }
   ],
   "source": [
    "from sklearn.ensemble import ExtraTreesClassifier\n",
    "\n",
    "dectree_classifier = ExtraTreesClassifier(n_estimators=45,\n",
    "                                          max_depth=240,\n",
    "                                          n_jobs=-1)\n",
    "\n",
    "start = time.time()\n",
    "dectree_classifier.fit(X_train, Y_train)\n",
    "end = time.time()\n",
    "print (\"Time\", end - start)\n",
    "start = time.time()\n",
    "print(\"Train score {:.3f}\".format(dectree_classifier.score(X_train, Y_train)))\n",
    "end = time.time()\n",
    "print (\"Time\", end - start)\n",
    "start = time.time()\n",
    "print(\"Test score {:.3f}\".format(dectree_classifier.score(X_test, Y_test)))\n",
    "end = time.time()\n",
    "print (\"Time\", end - start)"
   ]
  },
  {
   "cell_type": "markdown",
   "metadata": {},
   "source": [
    "Best params in range:\n",
    "\n",
    "1) 'n_estimators': range(5, 50, 5)\n",
    "\n",
    "2) 'max_depth': [None] + list(range(5, 200, 5))\n",
    "\n",
    "were {'max_depth': 195, 'n_estimators': 45}"
   ]
  },
  {
   "cell_type": "code",
   "execution_count": 103,
   "metadata": {},
   "outputs": [
    {
     "name": "stdout",
     "output_type": "stream",
     "text": [
      "0.919 (+/-0.011) for {'max_depth': None, 'n_estimators': 5}\n",
      "0.946 (+/-0.009) for {'max_depth': None, 'n_estimators': 10}\n",
      "0.955 (+/-0.006) for {'max_depth': None, 'n_estimators': 15}\n",
      "0.960 (+/-0.005) for {'max_depth': None, 'n_estimators': 20}\n",
      "0.962 (+/-0.005) for {'max_depth': None, 'n_estimators': 25}\n",
      "0.964 (+/-0.004) for {'max_depth': None, 'n_estimators': 30}\n",
      "0.965 (+/-0.006) for {'max_depth': None, 'n_estimators': 35}\n",
      "0.966 (+/-0.005) for {'max_depth': None, 'n_estimators': 40}\n",
      "0.967 (+/-0.004) for {'max_depth': None, 'n_estimators': 45}\n",
      "0.723 (+/-0.028) for {'max_depth': 5, 'n_estimators': 5}\n",
      "0.766 (+/-0.025) for {'max_depth': 5, 'n_estimators': 10}\n",
      "0.793 (+/-0.019) for {'max_depth': 5, 'n_estimators': 15}\n",
      "0.803 (+/-0.022) for {'max_depth': 5, 'n_estimators': 20}\n",
      "0.810 (+/-0.031) for {'max_depth': 5, 'n_estimators': 25}\n",
      "0.816 (+/-0.024) for {'max_depth': 5, 'n_estimators': 30}\n",
      "0.821 (+/-0.022) for {'max_depth': 5, 'n_estimators': 35}\n",
      "0.826 (+/-0.025) for {'max_depth': 5, 'n_estimators': 40}\n",
      "0.829 (+/-0.019) for {'max_depth': 5, 'n_estimators': 45}\n",
      "0.877 (+/-0.015) for {'max_depth': 10, 'n_estimators': 5}\n",
      "0.908 (+/-0.013) for {'max_depth': 10, 'n_estimators': 10}\n",
      "0.918 (+/-0.014) for {'max_depth': 10, 'n_estimators': 15}\n",
      "0.923 (+/-0.013) for {'max_depth': 10, 'n_estimators': 20}\n",
      "0.927 (+/-0.011) for {'max_depth': 10, 'n_estimators': 25}\n",
      "0.929 (+/-0.010) for {'max_depth': 10, 'n_estimators': 30}\n",
      "0.930 (+/-0.011) for {'max_depth': 10, 'n_estimators': 35}\n",
      "0.931 (+/-0.010) for {'max_depth': 10, 'n_estimators': 40}\n",
      "0.932 (+/-0.008) for {'max_depth': 10, 'n_estimators': 45}\n",
      "0.917 (+/-0.009) for {'max_depth': 15, 'n_estimators': 5}\n",
      "0.942 (+/-0.008) for {'max_depth': 15, 'n_estimators': 10}\n",
      "0.950 (+/-0.006) for {'max_depth': 15, 'n_estimators': 15}\n",
      "0.953 (+/-0.007) for {'max_depth': 15, 'n_estimators': 20}\n",
      "0.957 (+/-0.007) for {'max_depth': 15, 'n_estimators': 25}\n",
      "0.958 (+/-0.009) for {'max_depth': 15, 'n_estimators': 30}\n",
      "0.958 (+/-0.006) for {'max_depth': 15, 'n_estimators': 35}\n",
      "0.960 (+/-0.007) for {'max_depth': 15, 'n_estimators': 40}\n",
      "0.959 (+/-0.007) for {'max_depth': 15, 'n_estimators': 45}\n",
      "0.918 (+/-0.009) for {'max_depth': 20, 'n_estimators': 5}\n",
      "0.945 (+/-0.008) for {'max_depth': 20, 'n_estimators': 10}\n",
      "0.955 (+/-0.005) for {'max_depth': 20, 'n_estimators': 15}\n",
      "0.959 (+/-0.007) for {'max_depth': 20, 'n_estimators': 20}\n",
      "0.960 (+/-0.004) for {'max_depth': 20, 'n_estimators': 25}\n",
      "0.963 (+/-0.004) for {'max_depth': 20, 'n_estimators': 30}\n",
      "0.964 (+/-0.005) for {'max_depth': 20, 'n_estimators': 35}\n",
      "0.965 (+/-0.006) for {'max_depth': 20, 'n_estimators': 40}\n",
      "0.965 (+/-0.005) for {'max_depth': 20, 'n_estimators': 45}\n",
      "0.919 (+/-0.007) for {'max_depth': 25, 'n_estimators': 5}\n",
      "0.948 (+/-0.006) for {'max_depth': 25, 'n_estimators': 10}\n",
      "0.956 (+/-0.007) for {'max_depth': 25, 'n_estimators': 15}\n",
      "0.959 (+/-0.008) for {'max_depth': 25, 'n_estimators': 20}\n",
      "0.961 (+/-0.006) for {'max_depth': 25, 'n_estimators': 25}\n",
      "0.964 (+/-0.006) for {'max_depth': 25, 'n_estimators': 30}\n",
      "0.964 (+/-0.007) for {'max_depth': 25, 'n_estimators': 35}\n",
      "0.966 (+/-0.004) for {'max_depth': 25, 'n_estimators': 40}\n",
      "0.966 (+/-0.005) for {'max_depth': 25, 'n_estimators': 45}\n",
      "0.917 (+/-0.006) for {'max_depth': 30, 'n_estimators': 5}\n",
      "0.946 (+/-0.005) for {'max_depth': 30, 'n_estimators': 10}\n",
      "0.956 (+/-0.008) for {'max_depth': 30, 'n_estimators': 15}\n",
      "0.960 (+/-0.007) for {'max_depth': 30, 'n_estimators': 20}\n",
      "0.962 (+/-0.006) for {'max_depth': 30, 'n_estimators': 25}\n",
      "0.964 (+/-0.006) for {'max_depth': 30, 'n_estimators': 30}\n",
      "0.965 (+/-0.006) for {'max_depth': 30, 'n_estimators': 35}\n",
      "0.966 (+/-0.005) for {'max_depth': 30, 'n_estimators': 40}\n",
      "0.966 (+/-0.007) for {'max_depth': 30, 'n_estimators': 45}\n",
      "0.918 (+/-0.007) for {'max_depth': 35, 'n_estimators': 5}\n",
      "0.946 (+/-0.007) for {'max_depth': 35, 'n_estimators': 10}\n",
      "0.955 (+/-0.004) for {'max_depth': 35, 'n_estimators': 15}\n",
      "0.959 (+/-0.008) for {'max_depth': 35, 'n_estimators': 20}\n",
      "0.962 (+/-0.007) for {'max_depth': 35, 'n_estimators': 25}\n",
      "0.964 (+/-0.006) for {'max_depth': 35, 'n_estimators': 30}\n",
      "0.966 (+/-0.006) for {'max_depth': 35, 'n_estimators': 35}\n",
      "0.966 (+/-0.005) for {'max_depth': 35, 'n_estimators': 40}\n",
      "0.967 (+/-0.005) for {'max_depth': 35, 'n_estimators': 45}\n",
      "0.919 (+/-0.006) for {'max_depth': 40, 'n_estimators': 5}\n",
      "0.948 (+/-0.007) for {'max_depth': 40, 'n_estimators': 10}\n",
      "0.956 (+/-0.004) for {'max_depth': 40, 'n_estimators': 15}\n",
      "0.960 (+/-0.004) for {'max_depth': 40, 'n_estimators': 20}\n",
      "0.962 (+/-0.005) for {'max_depth': 40, 'n_estimators': 25}\n",
      "0.964 (+/-0.004) for {'max_depth': 40, 'n_estimators': 30}\n",
      "0.965 (+/-0.005) for {'max_depth': 40, 'n_estimators': 35}\n",
      "0.966 (+/-0.005) for {'max_depth': 40, 'n_estimators': 40}\n",
      "0.967 (+/-0.005) for {'max_depth': 40, 'n_estimators': 45}\n",
      "0.917 (+/-0.010) for {'max_depth': 45, 'n_estimators': 5}\n",
      "0.946 (+/-0.006) for {'max_depth': 45, 'n_estimators': 10}\n",
      "0.955 (+/-0.007) for {'max_depth': 45, 'n_estimators': 15}\n",
      "0.960 (+/-0.004) for {'max_depth': 45, 'n_estimators': 20}\n",
      "0.962 (+/-0.005) for {'max_depth': 45, 'n_estimators': 25}\n",
      "0.964 (+/-0.007) for {'max_depth': 45, 'n_estimators': 30}\n",
      "0.965 (+/-0.005) for {'max_depth': 45, 'n_estimators': 35}\n",
      "0.966 (+/-0.006) for {'max_depth': 45, 'n_estimators': 40}\n",
      "0.967 (+/-0.005) for {'max_depth': 45, 'n_estimators': 45}\n",
      "0.916 (+/-0.013) for {'max_depth': 50, 'n_estimators': 5}\n",
      "0.946 (+/-0.006) for {'max_depth': 50, 'n_estimators': 10}\n",
      "0.955 (+/-0.006) for {'max_depth': 50, 'n_estimators': 15}\n",
      "0.959 (+/-0.005) for {'max_depth': 50, 'n_estimators': 20}\n",
      "0.962 (+/-0.006) for {'max_depth': 50, 'n_estimators': 25}\n",
      "0.964 (+/-0.005) for {'max_depth': 50, 'n_estimators': 30}\n",
      "0.965 (+/-0.006) for {'max_depth': 50, 'n_estimators': 35}\n",
      "0.966 (+/-0.006) for {'max_depth': 50, 'n_estimators': 40}\n",
      "0.967 (+/-0.004) for {'max_depth': 50, 'n_estimators': 45}\n",
      "0.919 (+/-0.007) for {'max_depth': 55, 'n_estimators': 5}\n",
      "0.946 (+/-0.008) for {'max_depth': 55, 'n_estimators': 10}\n",
      "0.955 (+/-0.005) for {'max_depth': 55, 'n_estimators': 15}\n",
      "0.960 (+/-0.005) for {'max_depth': 55, 'n_estimators': 20}\n",
      "0.963 (+/-0.004) for {'max_depth': 55, 'n_estimators': 25}\n",
      "0.964 (+/-0.006) for {'max_depth': 55, 'n_estimators': 30}\n",
      "0.965 (+/-0.004) for {'max_depth': 55, 'n_estimators': 35}\n",
      "0.966 (+/-0.004) for {'max_depth': 55, 'n_estimators': 40}\n",
      "0.966 (+/-0.004) for {'max_depth': 55, 'n_estimators': 45}\n",
      "0.917 (+/-0.008) for {'max_depth': 60, 'n_estimators': 5}\n",
      "0.947 (+/-0.008) for {'max_depth': 60, 'n_estimators': 10}\n",
      "0.956 (+/-0.007) for {'max_depth': 60, 'n_estimators': 15}\n",
      "0.960 (+/-0.006) for {'max_depth': 60, 'n_estimators': 20}\n",
      "0.962 (+/-0.006) for {'max_depth': 60, 'n_estimators': 25}\n",
      "0.964 (+/-0.006) for {'max_depth': 60, 'n_estimators': 30}\n",
      "0.965 (+/-0.006) for {'max_depth': 60, 'n_estimators': 35}\n",
      "0.966 (+/-0.006) for {'max_depth': 60, 'n_estimators': 40}\n",
      "0.967 (+/-0.006) for {'max_depth': 60, 'n_estimators': 45}\n",
      "0.919 (+/-0.009) for {'max_depth': 65, 'n_estimators': 5}\n",
      "0.946 (+/-0.004) for {'max_depth': 65, 'n_estimators': 10}\n",
      "0.955 (+/-0.005) for {'max_depth': 65, 'n_estimators': 15}\n",
      "0.960 (+/-0.008) for {'max_depth': 65, 'n_estimators': 20}\n",
      "0.962 (+/-0.007) for {'max_depth': 65, 'n_estimators': 25}\n",
      "0.963 (+/-0.004) for {'max_depth': 65, 'n_estimators': 30}\n",
      "0.966 (+/-0.005) for {'max_depth': 65, 'n_estimators': 35}\n",
      "0.966 (+/-0.006) for {'max_depth': 65, 'n_estimators': 40}\n",
      "0.967 (+/-0.004) for {'max_depth': 65, 'n_estimators': 45}\n",
      "0.918 (+/-0.011) for {'max_depth': 70, 'n_estimators': 5}\n",
      "0.947 (+/-0.007) for {'max_depth': 70, 'n_estimators': 10}\n",
      "0.955 (+/-0.006) for {'max_depth': 70, 'n_estimators': 15}\n",
      "0.960 (+/-0.004) for {'max_depth': 70, 'n_estimators': 20}\n",
      "0.962 (+/-0.007) for {'max_depth': 70, 'n_estimators': 25}\n",
      "0.963 (+/-0.004) for {'max_depth': 70, 'n_estimators': 30}\n",
      "0.965 (+/-0.007) for {'max_depth': 70, 'n_estimators': 35}\n",
      "0.966 (+/-0.004) for {'max_depth': 70, 'n_estimators': 40}\n",
      "0.966 (+/-0.006) for {'max_depth': 70, 'n_estimators': 45}\n",
      "0.916 (+/-0.007) for {'max_depth': 75, 'n_estimators': 5}\n",
      "0.945 (+/-0.005) for {'max_depth': 75, 'n_estimators': 10}\n",
      "0.956 (+/-0.006) for {'max_depth': 75, 'n_estimators': 15}\n",
      "0.960 (+/-0.006) for {'max_depth': 75, 'n_estimators': 20}\n",
      "0.962 (+/-0.006) for {'max_depth': 75, 'n_estimators': 25}\n",
      "0.964 (+/-0.007) for {'max_depth': 75, 'n_estimators': 30}\n",
      "0.965 (+/-0.005) for {'max_depth': 75, 'n_estimators': 35}\n",
      "0.967 (+/-0.005) for {'max_depth': 75, 'n_estimators': 40}\n",
      "0.967 (+/-0.006) for {'max_depth': 75, 'n_estimators': 45}\n",
      "0.918 (+/-0.010) for {'max_depth': 80, 'n_estimators': 5}\n",
      "0.946 (+/-0.003) for {'max_depth': 80, 'n_estimators': 10}\n",
      "0.955 (+/-0.006) for {'max_depth': 80, 'n_estimators': 15}\n",
      "0.960 (+/-0.006) for {'max_depth': 80, 'n_estimators': 20}\n",
      "0.962 (+/-0.004) for {'max_depth': 80, 'n_estimators': 25}\n",
      "0.964 (+/-0.004) for {'max_depth': 80, 'n_estimators': 30}\n",
      "0.965 (+/-0.004) for {'max_depth': 80, 'n_estimators': 35}\n",
      "0.966 (+/-0.005) for {'max_depth': 80, 'n_estimators': 40}\n",
      "0.967 (+/-0.005) for {'max_depth': 80, 'n_estimators': 45}\n",
      "0.919 (+/-0.006) for {'max_depth': 85, 'n_estimators': 5}\n",
      "0.945 (+/-0.006) for {'max_depth': 85, 'n_estimators': 10}\n",
      "0.955 (+/-0.007) for {'max_depth': 85, 'n_estimators': 15}\n",
      "0.961 (+/-0.004) for {'max_depth': 85, 'n_estimators': 20}\n",
      "0.962 (+/-0.005) for {'max_depth': 85, 'n_estimators': 25}\n",
      "0.964 (+/-0.005) for {'max_depth': 85, 'n_estimators': 30}\n",
      "0.965 (+/-0.004) for {'max_depth': 85, 'n_estimators': 35}\n",
      "0.965 (+/-0.006) for {'max_depth': 85, 'n_estimators': 40}\n",
      "0.967 (+/-0.004) for {'max_depth': 85, 'n_estimators': 45}\n",
      "0.918 (+/-0.015) for {'max_depth': 90, 'n_estimators': 5}\n",
      "0.947 (+/-0.005) for {'max_depth': 90, 'n_estimators': 10}\n",
      "0.957 (+/-0.008) for {'max_depth': 90, 'n_estimators': 15}\n",
      "0.961 (+/-0.005) for {'max_depth': 90, 'n_estimators': 20}\n",
      "0.962 (+/-0.007) for {'max_depth': 90, 'n_estimators': 25}\n",
      "0.964 (+/-0.005) for {'max_depth': 90, 'n_estimators': 30}\n",
      "0.966 (+/-0.005) for {'max_depth': 90, 'n_estimators': 35}\n",
      "0.966 (+/-0.004) for {'max_depth': 90, 'n_estimators': 40}\n",
      "0.967 (+/-0.007) for {'max_depth': 90, 'n_estimators': 45}\n",
      "0.919 (+/-0.008) for {'max_depth': 95, 'n_estimators': 5}\n",
      "0.946 (+/-0.003) for {'max_depth': 95, 'n_estimators': 10}\n",
      "0.955 (+/-0.006) for {'max_depth': 95, 'n_estimators': 15}\n",
      "0.960 (+/-0.006) for {'max_depth': 95, 'n_estimators': 20}\n",
      "0.962 (+/-0.008) for {'max_depth': 95, 'n_estimators': 25}\n",
      "0.963 (+/-0.006) for {'max_depth': 95, 'n_estimators': 30}\n",
      "0.965 (+/-0.006) for {'max_depth': 95, 'n_estimators': 35}\n",
      "0.967 (+/-0.005) for {'max_depth': 95, 'n_estimators': 40}\n",
      "0.967 (+/-0.005) for {'max_depth': 95, 'n_estimators': 45}\n",
      "0.918 (+/-0.007) for {'max_depth': 100, 'n_estimators': 5}\n",
      "0.946 (+/-0.004) for {'max_depth': 100, 'n_estimators': 10}\n",
      "0.956 (+/-0.004) for {'max_depth': 100, 'n_estimators': 15}\n",
      "0.959 (+/-0.005) for {'max_depth': 100, 'n_estimators': 20}\n",
      "0.962 (+/-0.005) for {'max_depth': 100, 'n_estimators': 25}\n",
      "0.965 (+/-0.004) for {'max_depth': 100, 'n_estimators': 30}\n",
      "0.965 (+/-0.005) for {'max_depth': 100, 'n_estimators': 35}\n",
      "0.966 (+/-0.004) for {'max_depth': 100, 'n_estimators': 40}\n",
      "0.967 (+/-0.005) for {'max_depth': 100, 'n_estimators': 45}\n",
      "0.919 (+/-0.010) for {'max_depth': 105, 'n_estimators': 5}\n",
      "0.945 (+/-0.009) for {'max_depth': 105, 'n_estimators': 10}\n",
      "0.956 (+/-0.006) for {'max_depth': 105, 'n_estimators': 15}\n",
      "0.959 (+/-0.006) for {'max_depth': 105, 'n_estimators': 20}\n",
      "0.962 (+/-0.007) for {'max_depth': 105, 'n_estimators': 25}\n",
      "0.964 (+/-0.003) for {'max_depth': 105, 'n_estimators': 30}\n",
      "0.965 (+/-0.006) for {'max_depth': 105, 'n_estimators': 35}\n",
      "0.967 (+/-0.006) for {'max_depth': 105, 'n_estimators': 40}\n",
      "0.967 (+/-0.004) for {'max_depth': 105, 'n_estimators': 45}\n",
      "0.916 (+/-0.009) for {'max_depth': 110, 'n_estimators': 5}\n",
      "0.947 (+/-0.006) for {'max_depth': 110, 'n_estimators': 10}\n",
      "0.956 (+/-0.007) for {'max_depth': 110, 'n_estimators': 15}\n",
      "0.960 (+/-0.008) for {'max_depth': 110, 'n_estimators': 20}\n",
      "0.962 (+/-0.006) for {'max_depth': 110, 'n_estimators': 25}\n",
      "0.964 (+/-0.005) for {'max_depth': 110, 'n_estimators': 30}\n",
      "0.965 (+/-0.004) for {'max_depth': 110, 'n_estimators': 35}\n",
      "0.966 (+/-0.005) for {'max_depth': 110, 'n_estimators': 40}\n",
      "0.967 (+/-0.005) for {'max_depth': 110, 'n_estimators': 45}\n",
      "0.918 (+/-0.009) for {'max_depth': 115, 'n_estimators': 5}\n",
      "0.946 (+/-0.006) for {'max_depth': 115, 'n_estimators': 10}\n",
      "0.955 (+/-0.005) for {'max_depth': 115, 'n_estimators': 15}\n",
      "0.960 (+/-0.005) for {'max_depth': 115, 'n_estimators': 20}\n",
      "0.962 (+/-0.004) for {'max_depth': 115, 'n_estimators': 25}\n",
      "0.964 (+/-0.005) for {'max_depth': 115, 'n_estimators': 30}\n",
      "0.966 (+/-0.004) for {'max_depth': 115, 'n_estimators': 35}\n",
      "0.966 (+/-0.005) for {'max_depth': 115, 'n_estimators': 40}\n",
      "0.967 (+/-0.005) for {'max_depth': 115, 'n_estimators': 45}\n",
      "0.917 (+/-0.007) for {'max_depth': 120, 'n_estimators': 5}\n",
      "0.947 (+/-0.007) for {'max_depth': 120, 'n_estimators': 10}\n",
      "0.956 (+/-0.007) for {'max_depth': 120, 'n_estimators': 15}\n",
      "0.959 (+/-0.006) for {'max_depth': 120, 'n_estimators': 20}\n",
      "0.962 (+/-0.005) for {'max_depth': 120, 'n_estimators': 25}\n",
      "0.964 (+/-0.005) for {'max_depth': 120, 'n_estimators': 30}\n",
      "0.965 (+/-0.004) for {'max_depth': 120, 'n_estimators': 35}\n",
      "0.965 (+/-0.007) for {'max_depth': 120, 'n_estimators': 40}\n",
      "0.966 (+/-0.006) for {'max_depth': 120, 'n_estimators': 45}\n",
      "0.919 (+/-0.009) for {'max_depth': 125, 'n_estimators': 5}\n",
      "0.947 (+/-0.008) for {'max_depth': 125, 'n_estimators': 10}\n",
      "0.955 (+/-0.006) for {'max_depth': 125, 'n_estimators': 15}\n",
      "0.960 (+/-0.008) for {'max_depth': 125, 'n_estimators': 20}\n",
      "0.961 (+/-0.004) for {'max_depth': 125, 'n_estimators': 25}\n",
      "0.964 (+/-0.005) for {'max_depth': 125, 'n_estimators': 30}\n",
      "0.965 (+/-0.005) for {'max_depth': 125, 'n_estimators': 35}\n",
      "0.966 (+/-0.005) for {'max_depth': 125, 'n_estimators': 40}\n",
      "0.967 (+/-0.006) for {'max_depth': 125, 'n_estimators': 45}\n",
      "0.919 (+/-0.010) for {'max_depth': 130, 'n_estimators': 5}\n",
      "0.946 (+/-0.009) for {'max_depth': 130, 'n_estimators': 10}\n",
      "0.957 (+/-0.005) for {'max_depth': 130, 'n_estimators': 15}\n",
      "0.959 (+/-0.006) for {'max_depth': 130, 'n_estimators': 20}\n",
      "0.962 (+/-0.007) for {'max_depth': 130, 'n_estimators': 25}\n",
      "0.964 (+/-0.005) for {'max_depth': 130, 'n_estimators': 30}\n",
      "0.965 (+/-0.005) for {'max_depth': 130, 'n_estimators': 35}\n",
      "0.966 (+/-0.006) for {'max_depth': 130, 'n_estimators': 40}\n",
      "0.966 (+/-0.005) for {'max_depth': 130, 'n_estimators': 45}\n",
      "0.918 (+/-0.007) for {'max_depth': 135, 'n_estimators': 5}\n",
      "0.947 (+/-0.008) for {'max_depth': 135, 'n_estimators': 10}\n",
      "0.956 (+/-0.007) for {'max_depth': 135, 'n_estimators': 15}\n",
      "0.960 (+/-0.005) for {'max_depth': 135, 'n_estimators': 20}\n",
      "0.962 (+/-0.005) for {'max_depth': 135, 'n_estimators': 25}\n",
      "0.964 (+/-0.004) for {'max_depth': 135, 'n_estimators': 30}\n",
      "0.965 (+/-0.005) for {'max_depth': 135, 'n_estimators': 35}\n",
      "0.967 (+/-0.006) for {'max_depth': 135, 'n_estimators': 40}\n",
      "0.967 (+/-0.005) for {'max_depth': 135, 'n_estimators': 45}\n",
      "0.918 (+/-0.005) for {'max_depth': 140, 'n_estimators': 5}\n",
      "0.947 (+/-0.009) for {'max_depth': 140, 'n_estimators': 10}\n",
      "0.955 (+/-0.005) for {'max_depth': 140, 'n_estimators': 15}\n",
      "0.960 (+/-0.006) for {'max_depth': 140, 'n_estimators': 20}\n",
      "0.963 (+/-0.005) for {'max_depth': 140, 'n_estimators': 25}\n",
      "0.963 (+/-0.007) for {'max_depth': 140, 'n_estimators': 30}\n",
      "0.965 (+/-0.004) for {'max_depth': 140, 'n_estimators': 35}\n",
      "0.966 (+/-0.005) for {'max_depth': 140, 'n_estimators': 40}\n",
      "0.966 (+/-0.007) for {'max_depth': 140, 'n_estimators': 45}\n",
      "0.917 (+/-0.012) for {'max_depth': 145, 'n_estimators': 5}\n",
      "0.947 (+/-0.006) for {'max_depth': 145, 'n_estimators': 10}\n",
      "0.955 (+/-0.004) for {'max_depth': 145, 'n_estimators': 15}\n",
      "0.960 (+/-0.007) for {'max_depth': 145, 'n_estimators': 20}\n",
      "0.963 (+/-0.007) for {'max_depth': 145, 'n_estimators': 25}\n",
      "0.964 (+/-0.006) for {'max_depth': 145, 'n_estimators': 30}\n",
      "0.965 (+/-0.006) for {'max_depth': 145, 'n_estimators': 35}\n",
      "0.966 (+/-0.006) for {'max_depth': 145, 'n_estimators': 40}\n",
      "0.967 (+/-0.004) for {'max_depth': 145, 'n_estimators': 45}\n",
      "0.919 (+/-0.009) for {'max_depth': 150, 'n_estimators': 5}\n",
      "0.947 (+/-0.002) for {'max_depth': 150, 'n_estimators': 10}\n",
      "0.955 (+/-0.007) for {'max_depth': 150, 'n_estimators': 15}\n",
      "0.959 (+/-0.006) for {'max_depth': 150, 'n_estimators': 20}\n",
      "0.962 (+/-0.006) for {'max_depth': 150, 'n_estimators': 25}\n",
      "0.965 (+/-0.004) for {'max_depth': 150, 'n_estimators': 30}\n",
      "0.965 (+/-0.005) for {'max_depth': 150, 'n_estimators': 35}\n",
      "0.966 (+/-0.003) for {'max_depth': 150, 'n_estimators': 40}\n",
      "0.967 (+/-0.005) for {'max_depth': 150, 'n_estimators': 45}\n",
      "0.919 (+/-0.012) for {'max_depth': 155, 'n_estimators': 5}\n",
      "0.946 (+/-0.006) for {'max_depth': 155, 'n_estimators': 10}\n",
      "0.956 (+/-0.005) for {'max_depth': 155, 'n_estimators': 15}\n",
      "0.960 (+/-0.006) for {'max_depth': 155, 'n_estimators': 20}\n",
      "0.963 (+/-0.006) for {'max_depth': 155, 'n_estimators': 25}\n",
      "0.964 (+/-0.005) for {'max_depth': 155, 'n_estimators': 30}\n",
      "0.965 (+/-0.005) for {'max_depth': 155, 'n_estimators': 35}\n",
      "0.966 (+/-0.005) for {'max_depth': 155, 'n_estimators': 40}\n",
      "0.967 (+/-0.005) for {'max_depth': 155, 'n_estimators': 45}\n",
      "0.917 (+/-0.007) for {'max_depth': 160, 'n_estimators': 5}\n",
      "0.947 (+/-0.009) for {'max_depth': 160, 'n_estimators': 10}\n",
      "0.958 (+/-0.005) for {'max_depth': 160, 'n_estimators': 15}\n",
      "0.960 (+/-0.006) for {'max_depth': 160, 'n_estimators': 20}\n",
      "0.961 (+/-0.007) for {'max_depth': 160, 'n_estimators': 25}\n",
      "0.964 (+/-0.005) for {'max_depth': 160, 'n_estimators': 30}\n",
      "0.965 (+/-0.006) for {'max_depth': 160, 'n_estimators': 35}\n",
      "0.965 (+/-0.006) for {'max_depth': 160, 'n_estimators': 40}\n",
      "0.967 (+/-0.006) for {'max_depth': 160, 'n_estimators': 45}\n",
      "0.919 (+/-0.007) for {'max_depth': 165, 'n_estimators': 5}\n",
      "0.946 (+/-0.008) for {'max_depth': 165, 'n_estimators': 10}\n",
      "0.955 (+/-0.007) for {'max_depth': 165, 'n_estimators': 15}\n",
      "0.960 (+/-0.006) for {'max_depth': 165, 'n_estimators': 20}\n",
      "0.963 (+/-0.006) for {'max_depth': 165, 'n_estimators': 25}\n",
      "0.963 (+/-0.005) for {'max_depth': 165, 'n_estimators': 30}\n",
      "0.965 (+/-0.006) for {'max_depth': 165, 'n_estimators': 35}\n",
      "0.966 (+/-0.005) for {'max_depth': 165, 'n_estimators': 40}\n",
      "0.967 (+/-0.005) for {'max_depth': 165, 'n_estimators': 45}\n",
      "0.920 (+/-0.009) for {'max_depth': 170, 'n_estimators': 5}\n",
      "0.947 (+/-0.004) for {'max_depth': 170, 'n_estimators': 10}\n",
      "0.955 (+/-0.008) for {'max_depth': 170, 'n_estimators': 15}\n",
      "0.960 (+/-0.006) for {'max_depth': 170, 'n_estimators': 20}\n",
      "0.963 (+/-0.006) for {'max_depth': 170, 'n_estimators': 25}\n",
      "0.964 (+/-0.005) for {'max_depth': 170, 'n_estimators': 30}\n",
      "0.966 (+/-0.005) for {'max_depth': 170, 'n_estimators': 35}\n",
      "0.966 (+/-0.005) for {'max_depth': 170, 'n_estimators': 40}\n",
      "0.967 (+/-0.004) for {'max_depth': 170, 'n_estimators': 45}\n",
      "0.919 (+/-0.008) for {'max_depth': 175, 'n_estimators': 5}\n",
      "0.947 (+/-0.005) for {'max_depth': 175, 'n_estimators': 10}\n",
      "0.955 (+/-0.006) for {'max_depth': 175, 'n_estimators': 15}\n",
      "0.960 (+/-0.007) for {'max_depth': 175, 'n_estimators': 20}\n",
      "0.962 (+/-0.006) for {'max_depth': 175, 'n_estimators': 25}\n",
      "0.964 (+/-0.006) for {'max_depth': 175, 'n_estimators': 30}\n",
      "0.964 (+/-0.005) for {'max_depth': 175, 'n_estimators': 35}\n",
      "0.966 (+/-0.005) for {'max_depth': 175, 'n_estimators': 40}\n",
      "0.966 (+/-0.006) for {'max_depth': 175, 'n_estimators': 45}\n",
      "0.918 (+/-0.009) for {'max_depth': 180, 'n_estimators': 5}\n",
      "0.946 (+/-0.007) for {'max_depth': 180, 'n_estimators': 10}\n",
      "0.954 (+/-0.008) for {'max_depth': 180, 'n_estimators': 15}\n",
      "0.960 (+/-0.006) for {'max_depth': 180, 'n_estimators': 20}\n",
      "0.962 (+/-0.005) for {'max_depth': 180, 'n_estimators': 25}\n",
      "0.964 (+/-0.005) for {'max_depth': 180, 'n_estimators': 30}\n",
      "0.965 (+/-0.006) for {'max_depth': 180, 'n_estimators': 35}\n",
      "0.966 (+/-0.005) for {'max_depth': 180, 'n_estimators': 40}\n",
      "0.967 (+/-0.005) for {'max_depth': 180, 'n_estimators': 45}\n",
      "0.917 (+/-0.007) for {'max_depth': 185, 'n_estimators': 5}\n",
      "0.947 (+/-0.007) for {'max_depth': 185, 'n_estimators': 10}\n",
      "0.955 (+/-0.006) for {'max_depth': 185, 'n_estimators': 15}\n",
      "0.960 (+/-0.007) for {'max_depth': 185, 'n_estimators': 20}\n",
      "0.962 (+/-0.005) for {'max_depth': 185, 'n_estimators': 25}\n",
      "0.964 (+/-0.005) for {'max_depth': 185, 'n_estimators': 30}\n",
      "0.965 (+/-0.006) for {'max_depth': 185, 'n_estimators': 35}\n",
      "0.966 (+/-0.006) for {'max_depth': 185, 'n_estimators': 40}\n",
      "0.967 (+/-0.006) for {'max_depth': 185, 'n_estimators': 45}\n",
      "0.919 (+/-0.009) for {'max_depth': 190, 'n_estimators': 5}\n",
      "0.945 (+/-0.008) for {'max_depth': 190, 'n_estimators': 10}\n",
      "0.956 (+/-0.006) for {'max_depth': 190, 'n_estimators': 15}\n",
      "0.961 (+/-0.008) for {'max_depth': 190, 'n_estimators': 20}\n",
      "0.962 (+/-0.005) for {'max_depth': 190, 'n_estimators': 25}\n",
      "0.964 (+/-0.007) for {'max_depth': 190, 'n_estimators': 30}\n",
      "0.965 (+/-0.004) for {'max_depth': 190, 'n_estimators': 35}\n",
      "0.967 (+/-0.004) for {'max_depth': 190, 'n_estimators': 40}\n",
      "0.967 (+/-0.003) for {'max_depth': 190, 'n_estimators': 45}\n",
      "0.918 (+/-0.012) for {'max_depth': 195, 'n_estimators': 5}\n",
      "0.947 (+/-0.006) for {'max_depth': 195, 'n_estimators': 10}\n",
      "0.956 (+/-0.008) for {'max_depth': 195, 'n_estimators': 15}\n",
      "0.960 (+/-0.007) for {'max_depth': 195, 'n_estimators': 20}\n",
      "0.962 (+/-0.006) for {'max_depth': 195, 'n_estimators': 25}\n",
      "0.964 (+/-0.007) for {'max_depth': 195, 'n_estimators': 30}\n",
      "0.965 (+/-0.006) for {'max_depth': 195, 'n_estimators': 35}\n",
      "0.966 (+/-0.004) for {'max_depth': 195, 'n_estimators': 40}\n",
      "0.968 (+/-0.005) for {'max_depth': 195, 'n_estimators': 45}\n",
      "{'max_depth': 195, 'n_estimators': 45}\n"
     ]
    }
   ],
   "source": [
    "from sklearn.ensemble import ExtraTreesClassifier\n",
    "import sklearn.model_selection\n",
    "\n",
    "tuned_parameters = [\n",
    "    {\n",
    "        'n_estimators': range(40, 70, 5), \n",
    "        'max_depth': [None] + list(range(180, 250, 5))\n",
    "    }\n",
    "]\n",
    "\n",
    "grid_search = sklearn.model_selection.GridSearchCV(\n",
    "    ExtraTreesClassifier(),\n",
    "    tuned_parameters,\n",
    "    cv=5,\n",
    "    n_jobs=-1\n",
    ")\n",
    "grid_search.fit(X_train, Y_train)\n",
    "\n",
    "means = grid_search.cv_results_['mean_test_score']\n",
    "stds = grid_search.cv_results_['std_test_score']\n",
    "for mean, std, params in zip(means, stds, grid_search.cv_results_['params']):\n",
    "    print(\"%0.3f (+/-%0.03f) for %r\" % (mean, std * 2, params))\n",
    "\n",
    "print(grid_search.best_params_)"
   ]
  },
  {
   "cell_type": "code",
   "execution_count": 8,
   "metadata": {},
   "outputs": [
    {
     "name": "stdout",
     "output_type": "stream",
     "text": [
      "Time 167.92270016670227\n",
      "Train score 1.000\n",
      "Test score 0.979\n"
     ]
    }
   ],
   "source": [
    "from sklearn.svmimport SVC\n",
    "\n",
    "classifier = SVC( kernel=\"poly\", degree=2, coef0=0,\n",
    "        C=1,\n",
    "        gamma=3,\n",
    "        decision_function_shape=\"ovr\"  # one vs rest\n",
    "    )\n",
    "\n",
    "start = time.time()\n",
    "classifier.fit(X_dev_train, Y_dev_train)\n",
    "end = time.time()\n",
    "print (\"Time\", end - start)\n",
    "\n",
    "print(\"Train score {:.3f}\".format(classifier.score(X_dev_train, Y_dev_train)))\n",
    "print(\"Test score {:.3f}\".format(classifier.score(X_dev_test, Y_dev_test)))"
   ]
  },
  {
   "cell_type": "code",
   "execution_count": 9,
   "metadata": {},
   "outputs": [
    {
     "name": "stdout",
     "output_type": "stream",
     "text": [
      "(50000, 784) (50000,)\n",
      "Time 22.416131258010864\n",
      "Train score 0.974\n",
      "Test score 0.969\n"
     ]
    }
   ],
   "source": [
    "from sklearn.ensemble import BaggingClassifier\n",
    "from sklearn.svm        import SVC\n",
    "\n",
    "print(X_dev_train.shape, Y_dev_train.shape)\n",
    "\n",
    "classifier = SVC( kernel=\"poly\", degree=2, coef0=0,\n",
    "        C=1,\n",
    "        gamma=3,\n",
    "        decision_function_shape=\"ovr\"  # one vs rest\n",
    "    )\n",
    "\n",
    "n_estimators = 5\n",
    "bagging_classifier = BaggingClassifier(base_estimator=classifier,\n",
    "                                       n_jobs=-1, \n",
    "                                       max_samples=1.0 / n_estimators, \n",
    "                                       n_estimators=n_estimators)\n",
    "start = time.time()\n",
    "bagging_classifier.fit(X_dev_train, Y_dev_train)\n",
    "end = time.time()\n",
    "print (\"Time\", end - start)\n",
    "print(\"Train score {:.3f}\".format(bagging_classifier.score(X_dev_train, Y_dev_train)))\n",
    "print(\"Test score {:.3f}\".format(bagging_classifier.score(X_dev_test, Y_dev_test)))"
   ]
  },
  {
   "cell_type": "code",
   "execution_count": 11,
   "metadata": {},
   "outputs": [
    {
     "name": "stdout",
     "output_type": "stream",
     "text": [
      "60000\n",
      "Time 37.7459032535553\n",
      "Train score 0.980\n",
      "Test score 0.973\n"
     ]
    }
   ],
   "source": [
    "from sklearn.ensemble import BaggingClassifier\n",
    "from sklearn.svm        import SVC\n",
    "\n",
    "print(X_train.shape, X_test.shape)\n",
    "\n",
    "classifier = SVC( kernel=\"poly\", degree=2, coef0=0,\n",
    "        C=1,\n",
    "        gamma=4,\n",
    "        decision_function_shape=\"ovr\"  # one vs rest\n",
    "    )\n",
    "\n",
    "n_estimators = 4\n",
    "bagging_classifier = BaggingClassifier(base_estimator=classifier,\n",
    "                                       n_jobs=-1, \n",
    "                                       max_samples=1.0 / n_estimators, \n",
    "                                       n_estimators=n_estimators, \n",
    "                                       bootstrap=False)\n",
    "start = time.time()\n",
    "bagging_classifier.fit(X_train, Y_train)\n",
    "end = time.time()\n",
    "print (\"Time\", end - start)\n",
    "start = time.time()\n",
    "print(\"Test score {:.3f}\".format(bagging_classifier.score(X_test, Y_test)))\n",
    "end = time.time()\n",
    "print (\"Time\", end - start)"
   ]
  },
  {
   "cell_type": "code",
   "execution_count": 96,
   "metadata": {},
   "outputs": [
    {
     "name": "stdout",
     "output_type": "stream",
     "text": [
      "Time 360.5964789390564\n",
      "Test score 0.886\n",
      "Time 0.09525322914123535\n"
     ]
    }
   ],
   "source": [
    "from sklearn.ensemble import GradientBoostingClassifier\n",
    "        \n",
    "classifier = GradientBoostingClassifier(n_estimators=20)\n",
    "\n",
    "start = time.time()\n",
    "classifier.fit(X_train, Y_train)\n",
    "end = time.time()\n",
    "print (\"Time\", end - start)\n",
    "start = time.time()\n",
    "print(\"Test score {:.3f}\".format(classifier.score(X_test, Y_test)))\n",
    "end = time.time()\n",
    "print (\"Time\", end - start)"
   ]
  },
  {
   "cell_type": "markdown",
   "metadata": {},
   "source": [
    "20 mins, 100 boosting, 10 bagging, 93.5%\n",
    "\n",
    "37 mins, 200 boosting, 10 bagging, 94.5%\n",
    "\n",
    "100 mins, 2000 boosting, 10 bagging, 95.1%\n",
    "\n",
    "Большее значение бэггинга не улучшает результат:("
   ]
  },
  {
   "cell_type": "code",
   "execution_count": 125,
   "metadata": {},
   "outputs": [
    {
     "name": "stdout",
     "output_type": "stream",
     "text": [
      "(60000, 784) (60000,)\n",
      "Time 5869.59738779068\n",
      "Train score 0.954\n",
      "Test score 0.951\n"
     ]
    }
   ],
   "source": [
    "from sklearn.ensemble import BaggingClassifier\n",
    "from sklearn.ensemble import GradientBoostingClassifier\n",
    "        \n",
    "Y_train\n",
    "print(X_train.shape, Y_train.shape)\n",
    "\n",
    "boosting_n_estimators = 2000\n",
    "classifier = GradientBoostingClassifier(n_estimators=boosting_n_estimators)\n",
    "\n",
    "bagging_n_estimators = 10\n",
    "bagging_classifier = BaggingClassifier(base_estimator=classifier,\n",
    "                                       n_jobs=-1, \n",
    "                                       max_samples=1.0 / bagging_n_estimators, \n",
    "                                       n_estimators=bagging_n_estimators)\n",
    "start = time.time()\n",
    "bagging_classifier.fit(X_train, Y_train)\n",
    "end = time.time()\n",
    "print (\"Time\", end - start)\n",
    "print(\"Train score {:.3f}\".format(bagging_classifier.score(X_train, Y_train)))\n",
    "print(\"Test score {:.3f}\".format(bagging_classifier.score(X_test, Y_test)))"
   ]
  },
  {
   "cell_type": "code",
   "execution_count": 27,
   "metadata": {},
   "outputs": [
    {
     "name": "stdout",
     "output_type": "stream",
     "text": [
      "(60000, 784) (10000, 784)\n",
      "Time 107.08776664733887\n",
      "Train score 0.953\n",
      "Time 9.097191095352173\n",
      "Test score 0.948\n",
      "Time 2.0524582862854004\n"
     ]
    }
   ],
   "source": [
    "from sklearn.ensemble import AdaBoostClassifier\n",
    "from sklearn.ensemble import BaggingClassifier\n",
    "\n",
    "print(X_train.shape, X_test.shape)\n",
    "\n",
    "from sklearn.tree import DecisionTreeClassifier\n",
    "\n",
    "dectree_classifier = DecisionTreeClassifier(max_depth=15)\n",
    "\n",
    "ada_estimators = 50\n",
    "ada_classifier = AdaBoostClassifier(base_estimator=dectree_classifier,\n",
    "                                    n_estimators=ada_estimators)\n",
    "\n",
    "bagging_estimators = 10\n",
    "bagging_classifier = BaggingClassifier(base_estimator=ada_classifier,\n",
    "                                       n_jobs=-1, \n",
    "                                       max_samples=1.0 / bagging_estimators, \n",
    "                                       n_estimators=bagging_estimators)\n",
    "\n",
    "\n",
    "start = time.time()\n",
    "bagging_classifier.fit(X_train, Y_train)\n",
    "end = time.time()\n",
    "print (\"Time\", end - start)\n",
    "start = time.time()\n",
    "print(\"Train score {:.3f}\".format(bagging_classifier.score(X_train, Y_train)))\n",
    "end = time.time()\n",
    "print (\"Time\", end - start)\n",
    "start = time.time()\n",
    "print(\"Test score {:.3f}\".format(bagging_classifier.score(X_test, Y_test)))\n",
    "end = time.time()\n",
    "print (\"Time\", end - start)"
   ]
  },
  {
   "cell_type": "code",
   "execution_count": null,
   "metadata": {
    "collapsed": true
   },
   "outputs": [],
   "source": []
  }
 ],
 "metadata": {
  "kernelspec": {
   "display_name": "Python 3",
   "language": "python",
   "name": "python3"
  },
  "language_info": {
   "codemirror_mode": {
    "name": "ipython",
    "version": 3
   },
   "file_extension": ".py",
   "mimetype": "text/x-python",
   "name": "python",
   "nbconvert_exporter": "python",
   "pygments_lexer": "ipython3",
   "version": "3.6.1"
  }
 },
 "nbformat": 4,
 "nbformat_minor": 2
}
