{
 "cells": [
  {
   "cell_type": "code",
   "execution_count": 1,
   "metadata": {
    "collapsed": true
   },
   "outputs": [],
   "source": [
    "import matplotlib.pyplot as plt\n",
    "\n",
    "import numpy as np\n",
    "import sklearn\n",
    "import sklearn.datasets\n",
    "import time\n",
    "\n",
    "from sklearn.utils import shuffle"
   ]
  },
  {
   "cell_type": "code",
   "execution_count": 2,
   "metadata": {
    "collapsed": true
   },
   "outputs": [],
   "source": [
    "# Fetching\n",
    "mnist = sklearn.datasets.fetch_mldata('MNIST original')\n",
    "X, Y = mnist['data'], np.array(mnist['target'], dtype='int')\n",
    "\n",
    "# Scaling\n",
    "X = mnist.data/255.0 * 2 - 1\n",
    "\n",
    "# Splitting\n",
    "ntrain = 60000\n",
    "\n",
    "X_train, Y_train = X[:ntrain], Y[:ntrain]\n",
    "X_test, Y_test = X[ntrain:], Y[ntrain:]\n",
    "\n",
    "# Shuffling\n",
    "X_train, Y_train = shuffle(X_train, Y_train, random_state=0)\n",
    "X_test, Y_test = shuffle(X_test, Y_test, random_state=0)"
   ]
  },
  {
   "cell_type": "code",
   "execution_count": 3,
   "metadata": {},
   "outputs": [
    {
     "data": {
      "image/png": "[encoded data removed]",
      "text/plain": [
       "<matplotlib.figure.Figure at 0x1db01911c50>"
      ]
     },
     "metadata": {},
     "output_type": "display_data"
    }
   ],
   "source": [
    "plt.hist(Y_train)\n",
    "plt.title('Y_train distribution')\n",
    "plt.show()"
   ]
  },
  {
   "cell_type": "code",
   "execution_count": 4,
   "metadata": {},
   "outputs": [
    {
     "data": {
      "image/png": "[encoded data removed]",
      "text/plain": [
       "<matplotlib.figure.Figure at 0x1db3c37fb38>"
      ]
     },
     "metadata": {},
     "output_type": "display_data"
    }
   ],
   "source": [
    "plt.hist(Y_test)\n",
    "plt.title('Y_test distribution')\n",
    "plt.show()"
   ]
  },
  {
   "cell_type": "code",
   "execution_count": 5,
   "metadata": {},
   "outputs": [
    {
     "name": "stdout",
     "output_type": "stream",
     "text": [
      "(60000, 784) (60000,) (10000, 784) (10000,)\n",
      "Time 1019.1838824748993\n",
      "Test score 0.984\n",
      "Time 165.88449549674988\n"
     ]
    }
   ],
   "source": [
    "from sklearn.svm import SVC\n",
    "\n",
    "print(X_train.shape, Y_train.shape, X_test.shape, Y_test.shape)\n",
    "\n",
    "classifier = SVC(C=3, gamma=0.012)\n",
    "\n",
    "start = time.time()\n",
    "classifier.fit(X_train, Y_train)\n",
    "end = time.time()\n",
    "print (\"Time\", end - start)\n",
    "start = time.time()\n",
    "print(\"Test score {:.3f}\".format(classifier.score(X_test, Y_test)))\n",
    "end = time.time()\n",
    "print (\"Time\", end - start)"
   ]
  },
  {
   "cell_type": "code",
   "execution_count": null,
   "metadata": {
    "collapsed": true
   },
   "outputs": [],
   "source": []
  }
 ],
 "metadata": {
  "kernelspec": {
   "display_name": "Python 3",
   "language": "python",
   "name": "python3"
  },
  "language_info": {
   "codemirror_mode": {
    "name": "ipython",
    "version": 3
   },
   "file_extension": ".py",
   "mimetype": "text/x-python",
   "name": "python",
   "nbconvert_exporter": "python",
   "pygments_lexer": "ipython3",
   "version": "3.6.1"
  }
 },
 "nbformat": 4,
 "nbformat_minor": 2
}
